{
 "cells": [
  {
   "cell_type": "markdown",
   "metadata": {},
   "source": [
    "#     Algorithme de Wilson pour la génération d’arbres couvrants uniformes"
   ]
  },
  {
   "cell_type": "markdown",
   "metadata": {},
   "source": [
    "# I. Partie Théorique"
   ]
  },
  {
   "cell_type": "markdown",
   "metadata": {},
   "source": [
    "## Notation\n",
    "\n",
    "Soit $x$ un noeud du graphe. \n",
    "\n",
    "On note $\\Pi(x) = (A_x^n)_{n \\in \\mathbb{N}}$ la pile associée à $x$ et $\\Pi_{B_1, ..., B_n}(x)$ la pile de $x$ obtenue après la suppression séquentielle des cycles $B_1,..., B_n$ (la tête correspond alors à un certain $A_x^k$, $k \\geq 1$).\n",
    "\n",
    "On note $\\sigma_{\\Pi}(x)$ le sommet de la pile $\\Pi(x)$\n",
    "\n",
    "On note $\\Gamma_\\Pi = (V, \\Sigma_\\Pi)$ le graphe dont les arêtes sont données par: $\\Sigma_\\Pi = (\\sigma_\\Pi (x))_{x \\in V - r }$ (on exclue la racine)\n",
    "\n",
    "\n",
    "Soit $A = (k_0, ..., k_n, k_0)$ un cycle. On note $V(A) = \\{k_0, ..., k_n\\}$ l'ensemble des sommets du cycle.\n",
    "\n",
    "Soient $C_1, ..., C_n$ une séquence de cycles suppressibles. On pourra noter $\\mathcal{C} = (C_1, ..., C_n)$ une telle séquence et on notera parfois abusivement $(\\mathcal{C}, \\mathcal{D})$, $(C_0, ..., C_n, \\mathcal{D})$, $(\\mathcal{C}, D_0, ..., D_m)$ ... la \"concaténation\" de séquences de cycles suppressibles.\n",
    "\n",
    "On note $\\mathcal{C}_{[m]} = (C_1, ..., C_m)$ les $m$ premières suppressions de cycles de la séquence $\\mathcal{C}$.\n",
    "\n",
    "On note: $V(\\mathcal{C}) = \\cup_i V(C_i)$"
   ]
  },
  {
   "cell_type": "markdown",
   "metadata": {},
   "source": [
    "## Lemme 1\n",
    "\n",
    "Considérons les piles données par les $\\Pi(x)$.\n",
    "Considérons $\\mathcal{C} = (C_1, ..., C_n)$ une séquence de suppressions de cycles.\n",
    "Soit $x \\not \\in V(\\mathcal{C}) = V(C_1) \\cup ... \\cup V(C_n)$. Alors la pile associée à $x$ est inchangée. Autrement dit, $\\Pi_\\mathcal{C}(x) = \\Pi(x)$\n",
    "\n",
    "## Preuve\n",
    "Lorsqu'on supprime un cycle $C_i$ on ne touche qu'aux piles associées aux $y \\in V(C_i)$.\n",
    "Ainsi, après suppression des cycles $C_1, ..., C_n$, la pile associée à $x$ reste inchangée."
   ]
  },
  {
   "cell_type": "markdown",
   "metadata": {},
   "source": [
    "## Lemme 2\n",
    "Soit $A$ un cycle.\n",
    "Considérons les piles dans l'état $\\Pi$ et $\\mathcal{C} = (C_1, ..., C_n)$ une séquence de suppressions de cycles.\n",
    "On suppose que $V(A) \\cap V(\\mathcal{C}) = \\emptyset$. (on rappelle que: $V(\\mathcal{C}) =  V(C_1) \\cup ... \\cup V(C_n) $).\n",
    "\n",
    "Alors $A$ est directement suppressible (dans l'état $\\Pi$). De plus, $\\Pi_{A, \\mathcal{C}} = \\Pi_{\\mathcal{C}, A}$.\n",
    "\n",
    "## Preuve\n",
    "Ecrivons $A = (k_0, ..., k_m, k_{m+1} = k_0)$.\n",
    "Soit $i \\in (0, m)$ et posons $x = k_i$.\n",
    "\n",
    "$x \\not \\in V(\\mathcal{C}) = V(C_1) \\cup ... \\cup V(C_n)$\n",
    "donc par le lemme 1, le sommet de la pile associée à $x$ est $A_x^1$. Donc $k_{i+1} = A_{k_i}^1$ et ce pour tout $i$.\n",
    "\n",
    "Donc $A$ est directement suppressible.\n",
    "\n",
    "Soit $x$ un noeud du graphe.\n",
    "\n",
    "- Si $x \\in V(A)$, \n",
    "\n",
    "On a: $x \\not \\in V(\\mathcal{C})$ \n",
    "\n",
    "En appliquant le lemme 1 à $\\Pi_A$ et à la séquence $\\mathcal{C} = (C_1, ..., C_n)$ on obtient que: $\\Pi_{A, C_1, ..., C_n} (x) = \\Pi_{A, \\mathcal{C}}(x) = \\Pi_A(x)$\n",
    "\n",
    "En appliquant le lemme 1 à $\\Pi_{C_1, ..., C_n}$ on obtient que le sommet de $\\Pi_{C_1, ..., C_n}(x)$ est $A_x^1$, donc: $\\Pi_{C_1, ..., C_n, A}(x) = \\Pi_A(x)$\n",
    "\n",
    "\n",
    "Ainsi, $\\Pi_{A, C_1, ..., C_n} (x) = \\Pi_{C_1, ..., C_n, A} (x)$ ie $\\Pi_{A,\\mathcal{C}}(x) = \\Pi_{\\mathcal{C}, A}(x)$\n",
    "\n",
    "- Si $x \\in V(\\mathcal{C})$, on obtient le résultat de la même manière \n",
    "\n",
    "- Sinon, les sommets des 2 piles sont donnés par $A_x^1$ (lemme 1) et sont a fortiori égaux."
   ]
  },
  {
   "cell_type": "markdown",
   "metadata": {},
   "source": [
    "## Lemme 3\n",
    "Soit $A$ un cycle directement suppressible et $B$ un cycle suppressible après une séquence $\\mathcal{B} = (B_1,..., B_n=B)$. \n",
    "On suppose que $V(A) \\cap V(\\mathcal{B}_{[n-1]}) = \\emptyset$ et que $V(A) \\cap V(B) \\not = \\emptyset$.  Alors on peut supprimer $B$ en commençant par $A$.\n",
    "\n",
    "## Preuve : \n",
    "Soit $x \\in V(A) \\cap V(B)$. \n",
    "Notons $y = A_x^1$ la tête de la pile associée à $x$.\n",
    "\n",
    "$A$ et $B$ sont des cycles donc on peut écrire: $A \\equiv (x, k_1, ..., k_n, x)$ et $B \\equiv (x, l_1, ..., l_m, x)$. On suppose que \n",
    "\n",
    "$A$ est directement suppressible donc $k_1 = A_x^1$.\n",
    "\n",
    "$x \\not \\in V(\\mathcal{B}_{[n-1]})$, donc par le lemme 1, $\\Pi_{B_1, ..., B_{n-1}}(x) = \\Pi(x)$.\n",
    "\n",
    "Ainsi, avant de supprimer le cycle $B_n = B$, le sommet de la pile associée à $x$ est $A_x^1$.\n",
    "\n",
    "donc $l_1 = A_x^1 = k_1 \\in V(A) \\cap V(B)$\n",
    "\n",
    "En réappliquant le processus à $x = l_1$ et ainsi de suite, on obtient par unicité du successeur que $B = (x, k_1, ..., k_n, x, l'_1, ..., l'_p, x)$.\n",
    "\n",
    "Posons $B' = (x, l'_1, ..., l'_p, x)$ alors on peut supprimer $B$ par la séquence $(A, B')$ ce qui conclut."
   ]
  },
  {
   "cell_type": "markdown",
   "metadata": {},
   "source": [
    "## Question T1 : \n",
    "\n",
    "Soit $C$ suppressible, et fixons une séquence $C_0, ..., C_{n-1} = C$ (notée $\\mathcal{C}$).\n",
    "\n",
    "Soit $C'$ directement suppressible. On pose $C_n = C'$.\n",
    "\n",
    "Notons $m = \\min \\{i \\in (0, n) | V(C') \\cap V(C_i) \\not = \\emptyset \\}$.\n",
    "\n",
    "Par définition de $m$, $V(C') \\cap V(\\mathcal{C}_{[m-1]}) = V(C') \\cap [V(C_0) \\cup ... \\cup V(C_{m-1})] = \\emptyset$.\n",
    "\n",
    "Donc par le lemme 2, $\\Pi_{C', C_0, ..., C_{m-1}} = \\Pi_{C_0, ..., C_{m-1}, C'}$\n",
    "\n",
    "Par le lemme 3, on peut décomposer $C_m$ en $C', C''$.\n",
    "\n",
    "Puis en supprimant les cycles $C'', C_{m+1}, ..., C_{n-1}$ séquentiellement pour $\\Pi_{C', C_0, ..., C_{m-1}}$ et $\\Pi_{C_0, ..., C_{m-1}, C'}$, on obtient:\n",
    "\n",
    "$\\Pi_{C', C_0, ..., C_{m-1}, C'', C_{m+1}, ..., C_{n-1}} = \\Pi_{C_0, ..., C_{m-1}, C', C'', C_{m+1}, ..., C_{n-1}} = \\Pi_{C_0, ..., C_{n-1}}$\n",
    "\n",
    "\n",
    "\n",
    "Donc on peut supprimer $C$ avec la séquence $C', C_0, ..., C_{m-1}, C'', C_{m+1}, ..., C_{n-1}$ (notée $\\mathcal{C'}$) ce qui conclue.\n",
    "\n",
    "Ce faisant on a montré une version plus forte du théoèreme: les piles $\\Pi_\\mathcal{C} = \\Pi_\\mathcal{C'}$ sont égales ce qui nous sera utile pour démontrer T2."
   ]
  },
  {
   "cell_type": "markdown",
   "metadata": {},
   "source": [
    "## Question T2 :\n",
    "\n",
    "On dit qu'une séquence suppressible $\\mathcal{C} = (C_1, ..., C_n)$ est finale lorsqu'après suppression des cycles qui la composent, le graphe $\\Gamma_{\\Pi_\\mathcal{C}}$ d'arêtes obtenues par les sommets des piles $\\Pi_\\mathcal{C}$ forme un arbre (ie est sans cycles).\n",
    "\n",
    "Posons $H_m$: Considérons les piles dans l'état $\\Pi$ et considérons une séquence suppressible $\\mathcal{C} = (C_1, ..., C_n)$ finale (cela suppose qu'une telle séquence finie existe). Alors pour tous $\\mathcal{D} = (D_1, ..., D_m)$ suppressible finaux on a: $\\Pi_\\mathcal{D} = \\Pi_\\mathcal{C}$\n",
    "\n",
    "Montrons qu'on a $H_m$ pour tous $m \\geq 1$, ce qui montrera que lorsque la procédure de suppression de cycles termine, les cycles enlevés ne dépendent pas de l’ordre dans lequel on les a enlevés, et que les valeurs au sommet des piles dans la configuration terminale ne dépendent pas non plus de cet ordre.\n",
    "\n",
    "* Initialisation: pour $m = 1$: \n",
    "\n",
    "Considérons un état $\\Pi$ des piles et considérons une séquence suppressible $\\mathcal{C} = (C_1, ..., C_n)$ finale.\n",
    "\n",
    "Soit $\\mathcal{D} = (D_1)$ suppressible final. Alors $D_1$ est directement suppressible sans quoi $\\mathcal{D}$ ne serait pas suppressible (lemme 2).\n",
    "\n",
    "Donc par T1, on peut supprimer $C_n$ par une séquence $\\mathcal{C'}$ commençant par $D_1$. Par la version forte de T1, on a alors: $\\Pi_\\mathcal{C} = \\Pi_\\mathcal{C'}$. Or par définition de $\\mathcal{D}$, après suppression de $D_1$, le graphe obtenu est sans cycles donc $\\mathcal{C'} = \\mathcal{D}$. On en déduit alors que: $\\Pi_\\mathcal{C} = \\Pi_\\mathcal{D}$ ce qui conclue.\n",
    "\n",
    "* Hérédité: Soit $m \\geq 1$ tel que $H_m$ soit vérifié.\n",
    "\n",
    "Soit $\\mathcal{D} = (D_0, ..., D_m)$ une séquence suppressible finale et notons $\\mathcal{D'} = (D_1, ..., D_m)$.\n",
    "\n",
    "De la même manière que précédemment, $D_0$ est directement suppressible.\n",
    "\n",
    "Donc par T1, on peut supprimer $C_n$ par une séquence $(D_0, \\mathcal{C'})$ ( qui commence donc par $D_0$). Par la version forte de T1, on a alors: $\\Pi_\\mathcal{C} = \\Pi_{D_0, \\mathcal{C'}}$. \n",
    "\n",
    "Après suppression de $D_0$, $\\mathcal{D'}$ est suppressible final de taille $m$ donc par $H_m$ appliqué à $\\Pi_{D_0}$, $\\mathcal{C'}$ et $\\mathcal{D'}$, on obtient que: $\\Pi_{D_0, \\mathcal{D'}} = \\Pi_{D_0, \\mathcal{C'}}$.\n",
    "\n",
    "D'où $\\Pi_\\mathcal{D} = \\Pi_{D_0, \\mathcal{D'}} = \\Pi_{D_0, \\mathcal{C'}} = \\Pi_\\mathcal{C}$ ce qui conclut.\n"
   ]
  },
  {
   "cell_type": "markdown",
   "metadata": {},
   "source": [
    "## Question T3 \n",
    "\n",
    "\n",
    "1) \n",
    "\n",
    "Considérons une itération $i$. Notons $N_i$ le nombre d'étapes de la marche aléatoire.\n",
    "\n",
    "Pour éviter les problèmes de définition des probabilités conditionnelles (sachant $U_0 = k \\not = \\tilde u$ notamment), on fera l'hypothèse que $U_0$ suit une loi uniforme sur $G \\backslash T_{i-1}$ et on considérera plus généralement la marche aléatoire $(U_n)_{n \\in \\mathbb{N}}$. Cette marche aléatoire constitue alors une chaîne de Markov homogène sur un ensemble fini, de matrice de transition $P=\\{\\frac{\\mathbb{1}((u, v) \\in E)}{\\deg(u)}: 1 \\leq u, v \\leq |V| \\}$. \n",
    "\n",
    "Dans ce cas, $N_i$ n'est plus fixé mais désigne une variable aléatoire. \n",
    "\n",
    "Cette chaîne de Markov est alors irréductible. \n",
    "En effet, le graphe $G$ est connexe donc tout noeud $u$ est à distance finie de tout noeud $v$. Notons $d$ la distance séparant $u$ et $v$ et fixons $u_0 = u, ..., u_d = v$ un chemin atteignant cette distance. Dans ce cas, par définition de $P$, pour tout $n$, $\\mathbb{P}(U_{n+d} = v | U_n = u) \\geq \\mathbb{P}(U_n = u_0, ..., U_{n+d} = u_d | U_n = u_0) = \\prod_{k < d} P(u_k, u_{k+1})> 0$ (chaîne de Markov homogène)\n",
    "\n",
    "Cette chaîne est définie sur un ensemble fini donc c'est une chaîne récurrente. En particulier, $r$ est atteint en un temps fini presque sûrement. Notons $R$ la variable aléatoire indiquant l'entier $n$ minimal tel que $U_n = r$. On a alors que: $\\mathbb{P}(R < \\infty) = 1$.\n",
    "\n",
    "Or, $N_i \\leq R$ donc $N_i$ est aussi fini presque sûrement.\n",
    "\n",
    "\n",
    "Pour en revenir au nombres d'étapes de l'algorithme de Wilson, on sait qu'à chaque itération:\n",
    "\n",
    "- l'étape (a) s'éxecute en $N_i$ étapes. \n",
    "\n",
    "- Concernant l'étape (b), le nombre de boucles est majoré par $N_i$ donc le nombre d'étapes induit par la suppression de boucles (b) est d'au plus $N_i$.\n",
    "\n",
    "Ainsi, le nombre d'étapes du à une itération de l'algorithme est majoré par $2 \\cdot N_i$.\n",
    "\n",
    "\n",
    "Par ailleurs, à chaque itération $i$ on ajoute au moins un noeud à l'arbre courant $T_i$, donc le nombre total d'itérations (extérieures) est majoré par $|V|$.\n",
    "\n",
    "Ainsi, le nombre total d'étapes de l'algorithme est majoré par $2 \\cdot \\sum_{i \\leq |V|} N_i$ et est donc presque sûrement fini comme somme finie.\n",
    "\n",
    "2)\n",
    "\n",
    "Etant donné une exécution de l'algorithme de Wilson, on peut le voir en terme de suppression de cycles sur un ensemble de piles, en définissant:\n",
    "-  la pile du noeud $x$ comme étant obtenue par empilement successif des successeurs de $x$ (lorsqu'on est au noeud $x$) dans le parcours donné par l'exécution de l'algorithme de Wilson.\n",
    "- la séquence de suppression de cycles comme étant les boucles supprimées, dans leur ordre de suppression dans l'éxecution de l'algorithme de Wilson. \n",
    "\n",
    "On en déduit donc que la procédure de suppression de cycles se termine avec une probabilité égale à $1$."
   ]
  },
  {
   "cell_type": "markdown",
   "metadata": {},
   "source": [
    "On dit qu'un état $\\Pi$ est arbre-atteignable lorsqu'il existe une séquence suppressible finale $\\mathcal{C} = (C_0, ..., C_n)$, de telle sorte que $\\Gamma_{\\Pi_\\mathcal{C}}$ soit un arbre. \n",
    "\n",
    "\n",
    "## Lemme 4\n",
    "1) Soit $\\Pi$ arbre-atteignable. Soit $C$ directement suppressible. Alors il existe $\\mathcal{D}$ suppressible tel que $(C, \\mathcal{D})$ soit suppressible final.\n",
    "\n",
    "Autrement dit, s'il existe une séquence suppressible finale, alors quelque soit la séquence de suppression de cycles obtenue par une procédure quelconque de suppression de cycles, elle donne un arbre, et ce après un nombre fini de suppressions de cycles.\n",
    "\n",
    "2) De plus, pour tous $\\mathcal{C}, \\mathcal{C'}$ suppressibles finaux, $\\Pi_\\mathcal{C} = \\Pi_\\mathcal{C'}$. On peut alors noter $\\tilde \\Pi$ cet ensemble de piles. \n",
    "\n",
    "Dans ce cas, on peut définir $\\Pi_-(x)$ l'ensemble des noeuds supprimés du haut de $\\Pi(x)$ pour obtenir $\\tilde \\Pi(x)$, et $\\Pi_+(x)$ la pile $\\tilde \\Pi(x)$ dont on a éliminé le sommet.\n",
    "\n",
    "On obtient également que: $\\Gamma_{\\Pi_\\mathcal{C}} = \\Gamma_{\\Pi_\\mathcal{C'}}$: les arbres obtenus sont identiques. On peut donc définir $\\mathcal{T}_\\Pi$ cet arbre commun, et on a: $\\mathcal{T}_\\Pi = \\Gamma_{\\tilde \\Pi}$ (il est défini uniquement en termes du haut des piles).\n",
    "\n",
    "## Preuve:\n",
    "Fixons $\\mathcal{\\tilde C}$ suppressible final.\n",
    "Par T1 fort, on peut fixer $\\mathcal{D}$ tel que $\\Pi_\\mathcal{\\tilde C} = \\Pi_{C, \\mathcal{D}}$.\n",
    "Or, $\\Pi_\\mathcal{\\tilde C}$ est sans cycles donc $(C, \\mathcal{D})$ est sans cycle donc final.\n",
    "\n",
    "Soient $\\mathcal{C}, \\mathcal{C'}$ suppressibles finaux. Par T3, $\\Pi_\\mathcal{C} = \\Pi_\\mathcal{C'}$ ce qui montre 2)."
   ]
  },
  {
   "cell_type": "markdown",
   "metadata": {},
   "source": [
    "## Question 4\n",
    "\n",
    "\n",
    "1) Ainsi, par le lemme 4, une séquence de cycles obtenue par la procédure de suppression de cycles donne le même arbre $\\vec T$ : on peut donc dire que $\\vec T$ est indépendant des séquences de cycles obtenue par la procédure de suppression de cycles.\n",
    "\n",
    "2) \n",
    "\n",
    "Soit $\\Pi$ un ensemble de piles.\n",
    "\n",
    "Par T3, $\\Pi$ est presque sûrement arbre-atteignable. Autrement dit, par le lemme 4.2, l'application $\\Pi \\mapsto \\mathcal{T}_\\Pi$ est définie presque partout. De même pour $\\Pi \\mapsto \\Pi_+$ et $\\Pi \\mapsto \\Pi_-$. \n",
    "\n",
    "Or, $\\Pi(x) = \\Pi_-(x) \\frown \\mathcal{T}_\\Pi(x) \\frown \\Pi_+(x)$ est la concaténation/l'empilement de la pile $\\Pi_-(x)$, du sommet $\\mathcal{T}_\\Pi(x)$ et de la pile $\\Pi_+(x)$\n",
    "\n",
    "Donc $\\Phi : \\Pi \\mapsto (\\Pi_-, \\mathcal{T}_\\Pi, \\Pi_+)$ est définie et injective presque partout. En la restreignant sur son image, $\\Phi$ devient bijective.\n",
    "\n",
    "On note $\\Psi$ son inverse.\n",
    "\n",
    "Considérons $\\sigma$ une permutation des arbres couvrants.\n",
    "Posons $f_\\sigma : (A, T, C) \\mapsto (A, \\sigma(T), C)$, définie sur l'image de $\\Phi$. Elle est bien définie car pour tous $(A,T,C) = \\Phi(\\Pi)$, on peut définir $\\tilde \\Pi$ de telle sorte que $\\Phi(\\tilde \\Pi) = (A, \\sigma(T),C)$ en substituant la couche $T$ de $\\Pi$ avec l'arbre couvrant $\\sigma(T)$ (en particulier, $\\Phi(\\tilde \\Pi)$ correspond bien à $(A, \\sigma(T),C)$)\n",
    "\n",
    "On a immédiatement que $f_\\sigma \\circ f_\\tau = f_{\\sigma \\circ \\tau}$ et donc que $f_\\sigma$ est bijective d'inverse $f_{\\sigma^{-1}}$\n",
    "\n",
    "De plus, $\\mathcal{T}_{(\\Psi \\circ f_\\sigma \\circ \\Phi)(\\Pi)} = \\sigma(\\mathcal{T}_\\Pi)$ car $(f_\\sigma \\circ \\Phi) (\\Pi) = (\\Pi_-, \\sigma(\\mathcal{T}_\\Pi), \\Pi_+)$ (noté (1) )\n",
    "\n",
    "Soit $T$ un arbre couvrant de $G$.\n",
    "On pose $E_T = \\{\\Pi | \\mathcal{T}_\\Pi = T \\}$\n",
    "\n",
    "\n",
    "Soit $T, T'$ deux arbres couvrants. Montrons que $E_T \\cong E_{T'}$.\n",
    "\n",
    "- Si $T = T'$ c'est immédiat.\n",
    "\n",
    "- Sinon, notons $\\sigma = (T,T')$ la transposition de $T$ et $T'$.\n",
    "Alors $\\phi = \\Psi \\circ f_\\sigma \\circ \\Phi$ est bijective d'inverse elle-même.\n",
    "De plus, $E_T =\\{\\Pi | \\mathcal{T}_\\Pi = T\\} \\xrightarrow{\\phi} \\{\\tilde \\Pi = (\\Psi \\circ f_\\sigma \\circ \\Phi)(\\Pi) | \\mathcal{T}_\\Pi = T\\} \\overset{\\strut\\text{par (1)}}= \\{\\tilde \\Pi | \\mathcal{T}_{\\tilde \\Pi} = T'\\} = E_{T'}$. \n",
    "Donc $E_{T'} = \\phi (E_T)$ et $E_T = \\phi (E_{T'})$ symétriquement.\n",
    "\n",
    "Donc les $E_T$ sont isomorphes. \n",
    "\n",
    "Donc $\\Pi \\mapsto \\mathcal{T}_\\Pi$ a exactement comme image les arbres couvrants $T$ de $G$, et chaque arbre couvrant a un nombre \"isomorphe\" d'antécédents.\n",
    "\n",
    "Les piles $\\Pi$ sont tirées uniformémement donc les arbres couvrants sont également tirés uniformément."
   ]
  },
  {
   "cell_type": "markdown",
   "metadata": {},
   "source": [
    "# II. Partie Simulation\n"
   ]
  },
  {
   "cell_type": "markdown",
   "metadata": {},
   "source": [
    "## S1: Implémentation de l'algorithme de Wilson\n",
    "\n",
    "On utilise pour cela la correspondance établie par la partie théorique"
   ]
  },
  {
   "cell_type": "code",
   "execution_count": 1,
   "metadata": {},
   "outputs": [],
   "source": [
    "import random as rd\n",
    "import numpy as np\n",
    "import networkx as nx\n",
    "import numpy.random as npr"
   ]
  },
  {
   "cell_type": "code",
   "execution_count": 2,
   "metadata": {},
   "outputs": [],
   "source": [
    "'''\n",
    "Algorithme de génération d'arbre couvrant uniforme par la méthode de suppression de cycles \n",
    "(celle définie dans la partie théorique)\n",
    "'''\n",
    "\n",
    "def detect_cycle(stack,r):\n",
    "    '''Fonction de detection d'un cycle directement suppressible \n",
    "    etant donne les sommets des piles donne par stack et une racine r. \n",
    "    lineaire en le nombre de noeuds'''\n",
    "    N = len(stack)\n",
    "    # note ordre de parcours\n",
    "    order = np.zeros(N, dtype=np.int)\n",
    "    \n",
    "    # convention simplificatrice\n",
    "    order[r] = -1\n",
    "    \n",
    "    for u in range(N):\n",
    "        if order[u] != 0:\n",
    "            continue\n",
    "        \n",
    "        # parcours d'une nouvelle chaine\n",
    "        time0,i,v,sommet_visite = u*N+N,0,u,[]\n",
    "        \n",
    "        # si order[v] = 0, le noeud n'a jamais ete parcouru\n",
    "        # si order[v] >= time0, il a ete parcouru dans la chaine actuelle: presence de cycle\n",
    "        # sinon, il a ete parcouru avant: on continue la boucle while\n",
    "        \n",
    "        # optimisation: on peut s'arreter lorsque 0 < order[v] < t \n",
    "        # car dans ce cas, on n'a pas de cycle\n",
    "        \n",
    "        # simplification: pas besoin du test v != r car ordre[r] = -1\n",
    "        while order[v] == 0:\n",
    "            order[v] = time0 + i\n",
    "            v,i = stack[v], i+1\n",
    "        \n",
    "        # presence de cycle\n",
    "        # fonctionne lorsque v = r\n",
    "        if order[v] >= time0:\n",
    "            return v\n",
    "        \n",
    "        # sinon pas de cycle, on continue\n",
    "            \n",
    "    return None\n",
    "\n",
    "def gen_cycle(stack, u):\n",
    "    '''Etant donne des piles, et un noeud u appartenant a un cycle, \n",
    "    genere la liste des noeuds du cycle en parcourant les successeurs successifs de u'''\n",
    "    cycle, u = [u], stack[u]\n",
    "    while u != cycle[0]:\n",
    "        cycle.append(u)\n",
    "        u = stack[u]\n",
    "        \n",
    "    return cycle\n",
    "        \n",
    "def print_array(stack, name):\n",
    "    '''fonction d'affichage du haut des piles'''\n",
    "    print(\"{}: \".format(name), end=\"\")\n",
    "    for x in stack:\n",
    "        print(x, end=\" \")\n",
    "    print()\n",
    "    \n",
    "def pop_cycle(edges, stack, cycle):\n",
    "    '''Redefinit les successeurs des noeuds de cycle '''\n",
    "    for u in cycle:\n",
    "        stack[u] = rd.choice(edges[u]) \n",
    "        \n",
    "def wilson_algorithm(edges, max_depth = 1000, debug = False):\n",
    "    '''Fonction principale: etant donnee une liste d'adjacence du graphe, \n",
    "    renvoie un arbre couvrant uniforme sous forme de liste des successeurs de tous les noeuds (la racine s'envoie sur elle-meme)\n",
    "    prend en argument une profondeur maximale pour eviter de trop boucler'''\n",
    "    N = len(edges)\n",
    "    \n",
    "    root = rd.randint(0,N-1)\n",
    "    stack = [rd.choice(edges[u]) for u in range(N)]\n",
    "    \n",
    "    if debug: print(\"> root={}\".format(root))\n",
    "    stack[root] = root\n",
    "    \n",
    "    for depth in range(max_depth): \n",
    "        if debug: print_array(stack, \"stack\")\n",
    "        \n",
    "        u0 = detect_cycle(stack, root)\n",
    "        if u0 == None:\n",
    "            return stack\n",
    "            \n",
    "        cycle = gen_cycle(stack, u0)\n",
    "        if debug: print_array(cycle, \"cycle\")\n",
    "        pop_cycle(edges,stack,cycle)\n",
    "        \n",
    "    return None"
   ]
  },
  {
   "cell_type": "code",
   "execution_count": 3,
   "metadata": {},
   "outputs": [],
   "source": [
    "'''\n",
    "Implementation de l'algorithme de Wilson à l'aide de marches aléatoires\n",
    "\n",
    "Pour cela, tree va denoter l'arbre courant T_i\n",
    "Ses noeuds sont initialises a -1 pour dire qu'ils ne sont pas dans l'arbre\n",
    "\n",
    "'''\n",
    "\n",
    "def gen_path(paths, u0, v, debug):\n",
    "    '''genere un chemin prive de boucles etant donne le noeud initial et final du chemin, et la liste des successeurs'''\n",
    "    path, u = [u0], u0\n",
    "    \n",
    "    if debug: print(\"path: {} \".format(u0), end=\"\")\n",
    "    while u != v:\n",
    "        u = paths[u]\n",
    "        path.append(u)\n",
    "        \n",
    "        if debug: print(u, end=\" \")\n",
    "    if debug: print()\n",
    "    \n",
    "    return path\n",
    "\n",
    "def random_walk(tree, u0, edges, debug):\n",
    "    '''renvoie l'ensemble des sommets a  ajouter a l'arbre courant, \n",
    "    correspond a une iteration de l'algorithme de Wilson '''\n",
    "    N = len(edges)\n",
    "    \n",
    "    \n",
    "    # construction d'une liste paths, qui permet d'integrer directement la procédure d'effacement de boucles\n",
    "    # sans faire de suppression directe\n",
    "    paths = np.zeros(N, dtype=np.int)\n",
    "    \n",
    "    # on choisit un noeud initial (suppose valide)\n",
    "    u = u0\n",
    "    \n",
    "    if debug: print(\"walk: {}\".format(u0), end=\" \")\n",
    "        \n",
    "    # on arrete la marche aleatoire une fois qu'on atteint un noeud de T_{i-1}\n",
    "    while tree[u] == -1:\n",
    "        # on choisit un voisin de maniere uniforme\n",
    "        paths[u] = rd.choice(edges[u])\n",
    "        u = paths[u]\n",
    "        if debug: print(u, end=\" \")\n",
    "            \n",
    "    if debug: print()\n",
    "        \n",
    "    # on renvoie la liste des sommets consituant le chemin a ajouter a l'arbre\n",
    "    return gen_path(paths, u0, u, debug)\n",
    "\n",
    "def mark_path(tree, path, debug):\n",
    "    ''' met a jour l'arbre courant avec le nouveau chemin '''\n",
    "    n = len(path)\n",
    "    for i in range(n-1):\n",
    "        tree[path[i]] = path[i+1]\n",
    "        \n",
    "def wilson_algorithm2(edges, max_depth = 1000, debug = False):\n",
    "    '''Fonction principale: etant donnee une liste d'adjacence du graphe, \n",
    "    renvoie un arbre couvrant uniforme sous forme de liste des successeurs de tous les noeuds (la racine s'envoie sur elle-meme)\n",
    "    prend en argument une profondeur maximale pour eviter de trop boucler (moins utile ici car la fonction bloque surtout pour la premiere iteration)'''\n",
    "    N = len(edges)\n",
    "    root = rd.randint(0, N-1)\n",
    "    \n",
    "    tree = np.full(N, -1, dtype=np.int)\n",
    "    tree[root] = root\n",
    "    \n",
    "    # designe les noeuds pas dans l'arbre courant\n",
    "    unmarked = list(range(N))\n",
    "    unmarked.remove(root)\n",
    "    \n",
    "    if debug: print(\"root={}\".format(root))\n",
    "    for depth in range(max_depth):\n",
    "        # tous les noeuds dans l'arbre\n",
    "        if unmarked == []:\n",
    "            return tree\n",
    "        \n",
    "        if debug: print(\"[{}]: [{}] \".format(depth, len(unmarked)), end=\"\")\n",
    "        \n",
    "        path = random_walk(tree, rd.choice(unmarked), edges, debug)\n",
    "        mark_path(tree, path, debug)\n",
    "    \n",
    "        unmarked = list(set(unmarked) - set(path))\n",
    "        \n",
    "    return None"
   ]
  },
  {
   "cell_type": "code",
   "execution_count": 4,
   "metadata": {},
   "outputs": [],
   "source": [
    "'''\n",
    "Fonctions d'affichage du graphe (modularise)\n",
    "Utilise pour cela networkx\n",
    "'''\n",
    "\n",
    "def build_nx(V, E):\n",
    "    '''genere un graphe networkx etant donne un graphe sous forme V,E'''\n",
    "    G = nx.Graph()\n",
    "    G.add_nodes_from(V)\n",
    "    for iu, u_edges in enumerate(E):\n",
    "        for iv in u_edges:\n",
    "            G.add_edge(V[iu], V[iv],color='g',weight=1,style='dotted')\n",
    "    return G\n",
    "\n",
    "def annotate_nx(G, V, T):\n",
    "    '''colore les aretes de l'arbre T dans le graphe networkx G'''\n",
    "    for iu, iv in enumerate(T):\n",
    "        u,v = V[iu], V[iv]\n",
    "        G.add_edge(u,v,color='b',weight=3,style='solid')\n",
    "        \n",
    "def draw_nx(G, pos):\n",
    "    '''fonction de rendu du graphe networkx G etant donne un layout des noeuds (pos) '''\n",
    "    edges = G.edges()\n",
    "    colors = list(nx.get_edge_attributes(G, 'color').values())\n",
    "    weights = list(nx.get_edge_attributes(G, 'weight').values())\n",
    "    styles = list(nx.get_edge_attributes(G, 'style').values())\n",
    "\n",
    "    nx.draw(G, pos, edges=edges, edge_color=colors, width=weights, style=styles, node_size=0)"
   ]
  },
  {
   "cell_type": "code",
   "execution_count": 5,
   "metadata": {},
   "outputs": [],
   "source": [
    "import matplotlib.pyplot as plt\n",
    "\n",
    "def show_spanning_tree(N, method_func, method_string, max_depth = 100000, debug = False):\n",
    "    '''Fonction principale de generation et de rendu d'un arbre couvrant uniforme\n",
    "    method_func donne la fonction de generation des noeuds et aretes du graphe;\n",
    "    et method_string le titre du rendu'''\n",
    "    \n",
    "    V,E,pos = method_func(N)\n",
    "    G = build_nx(V, E)\n",
    "\n",
    "    T = wilson_algorithm(E, max_depth, debug)\n",
    "    if T is None:\n",
    "        print(\"Profondeur maximale atteinte\")\n",
    "        return\n",
    "    \n",
    "    annotate_nx(G, V, T)\n",
    "    draw_nx(G, pos)\n",
    "    plt.title(\"Echantillon uniforme d'un arbre couvrant\\n{}\".format(method_string))\n",
    "    plt.show()"
   ]
  },
  {
   "cell_type": "markdown",
   "metadata": {},
   "source": [
    "## S2: Grille 2D carrée"
   ]
  },
  {
   "cell_type": "code",
   "execution_count": 6,
   "metadata": {},
   "outputs": [],
   "source": [
    "'''\n",
    "Fonctions de generation des noeuds et aretes d'une grille 2D carree (cf method_func)\n",
    "'''\n",
    "\n",
    "import itertools\n",
    "\n",
    "def manhattan(p1, p2):\n",
    "    return abs(p1[0]-p2[0]) + abs(p1[1]-p2[1])\n",
    "\n",
    "def gen_grid_verts(N):\n",
    "    '''genere les noeuds d'une grille 2D carree NxN '''\n",
    "    return list(itertools.product(range(1,N+1), range(1,N+1)))\n",
    "\n",
    "def gen_grid_edges(V):\n",
    "    '''genere les aretes d'une grille 2D carree etant donne ses noeuds V '''\n",
    "    return [[i2 for i2, p2 in enumerate(V) if manhattan(p1,p2) == 1] for p1 in V]\n",
    "\n",
    "def gen_grid_graph(N):\n",
    "    '''genere les noeuds et aretes d'une grille 2D carree NxN et le layout de ses noeuds '''\n",
    "    V = gen_grid_verts(N)\n",
    "    E = gen_grid_edges(V)\n",
    "    pos = {p:p for p in V}\n",
    "    return V,E,pos"
   ]
  },
  {
   "cell_type": "code",
   "execution_count": 7,
   "metadata": {},
   "outputs": [
    {
     "data": {
      "image/png": "[encoded data removed]",
      "text/plain": [
       "<Figure size 432x288 with 1 Axes>"
      ]
     },
     "metadata": {},
     "output_type": "display_data"
    },
    {
     "data": {
      "image/png": "[encoded data removed]",
      "text/plain": [
       "<Figure size 432x288 with 1 Axes>"
      ]
     },
     "metadata": {},
     "output_type": "display_data"
    }
   ],
   "source": [
    "'''\n",
    "Rendu d'arbres couvrant uniformes dans le cas dans le cas d'une grille 2D carrée \n",
    "'''\n",
    "N1 = 10 # Taille de la Première grille \n",
    "N2 = 50 # Taile de la deuxième grille\n",
    "\n",
    "show_spanning_tree(N1, gen_grid_graph, \"Grille carrée N={}\".format(N1))\n",
    "show_spanning_tree(N2, gen_grid_graph, \"Grille carrée N={}\".format(N2))"
   ]
  },
  {
   "cell_type": "markdown",
   "metadata": {},
   "source": [
    "## S3: Grille 2D triangulaire"
   ]
  },
  {
   "cell_type": "code",
   "execution_count": 8,
   "metadata": {},
   "outputs": [],
   "source": [
    "'''\n",
    "Fonctions de generation des noeuds et aretes dans le cas d'une grille 2D triangulaire (cf method_func)\n",
    "'''\n",
    "\n",
    "import itertools\n",
    "\n",
    "def is_triangular_edge(p1, p2):\n",
    "    x1,y1 = p1\n",
    "    x2,y2 = p2\n",
    "    return (x1 == x2 and abs(y1-y2)==1) or (x2==x1+1 and (y2==y1 or y2==y1+1))\n",
    "    \n",
    "def gen_trigrid_verts(N):\n",
    "    '''genere les noeuds d'une grille 2D triangulaire '''\n",
    "    return [(x,y) for x,y in itertools.product(range(1,N+1), range(1,N+1)) if y <= x]\n",
    "\n",
    "def gen_trigrid_edges(V):\n",
    "    '''genere les aretes d'une grille 2D triangulaire etant donne ses noeuds V '''\n",
    "    return [[i2 for i2, p2 in enumerate(V) if is_triangular_edge(p1,p2)] for p1 in V]\n",
    "\n",
    "def gen_trigrid_graph(N):\n",
    "    '''genere les noeuds et aretes d'une grille 2D triangulaire et le layout de ses noeuds '''\n",
    "    V = gen_trigrid_verts(N)\n",
    "    E = gen_trigrid_edges( V)\n",
    "    pos = {p:p for p in V}\n",
    "    return V,E,pos"
   ]
  },
  {
   "cell_type": "code",
   "execution_count": 9,
   "metadata": {},
   "outputs": [
    {
     "name": "stdout",
     "output_type": "stream",
     "text": [
      "Profondeur maximale atteinte\n",
      "Profondeur maximale atteinte\n"
     ]
    }
   ],
   "source": [
    "'''\n",
    "Rendu d'arbres couvrant uniformes dans le cas dans le cas d'une grille 2D triangulaire \n",
    "'''\n",
    "\n",
    "N1= 10 #Taille de la première grille triangulaire \n",
    "N2=50 #Taille de la deuxième grille triangulaire\n",
    "show_spanning_tree(N1, gen_trigrid_graph, \"Grille triangulaire N={}\".format(N1))\n",
    "show_spanning_tree(N2, gen_trigrid_graph, \"Grille triangulaire N={}\".format(N2))"
   ]
  },
  {
   "cell_type": "markdown",
   "metadata": {},
   "source": [
    "## III.Comparaison des résultats "
   ]
  },
  {
   "cell_type": "markdown",
   "metadata": {},
   "source": [
    "## 1.Forme de graphe et profondeur "
   ]
  },
  {
   "cell_type": "code",
   "execution_count": 10,
   "metadata": {},
   "outputs": [
    {
     "name": "stdout",
     "output_type": "stream",
     "text": [
      "En utilisant l'approche  wilson_algorithm\n",
      "Pour une grille carrée de taille  10 \n",
      " \t La moyenne des profondeurs nécessaires est : 4.87 \n",
      " \t La variance:  22.633099999999995\n",
      "Pour une grille triangulaire de taille  10 \n",
      " \t La moyenne des profondeurs nécessaires est : 1720.41 \n",
      " \t La variance:  480190.72189999983\n"
     ]
    }
   ],
   "source": [
    "nbr_simulations = 100 #nombre des simulations\n",
    "N = 10 # taille des grilles \n",
    "max_depth=2000#  on prend la profondeur maximale égale à 2000\n",
    "\n",
    "def comparer_profondeurs(approche):\n",
    "    '''\n",
    "    Compare la moyenne des profondeurs atteintes lors de l'exécution de l'algorithme dans sa version #approche (c'est-à-dire \n",
    "    wilson_algorithm ou wilson_algorithm2) pour \n",
    "    une grille carrée et pour une grille triangulaire\n",
    "    '''\n",
    "    \n",
    "    edges_carre, edges_triang = gen_grid_edges(gen_grid_verts(N)) , gen_trigrid_edges(gen_trigrid_verts(N))\n",
    "    grid_results, trigGrid_results = np.zeros(nbr_simulations, dtype=np.int), np.zeros(nbr_simulations, dtype=np.int)\n",
    "    for i in range(nbr_simulations):\n",
    "        tree1= approche(edges_carre, max_depth) # generation d'un arbre couvrant pour la grille carrée et la profondeur requise \n",
    "        tree2=approche(edges_triang, max_depth) # génération d'un arbre couvrant pour la grille triangulaire et la profondeur requise \n",
    "        if(not (tree1 is None)):\n",
    "            grid_results[i]= tree1[1] #remplissons notre array avec les profondeur \n",
    "        else:\n",
    "            grid_results[i]=max_depth\n",
    "        if(not(tree2 is None)):\n",
    "            trigGrid_results[i]=tree2[1]\n",
    "        else:\n",
    "            trigGrid_results[i]=max_depth\n",
    "    print(\"En utilisant l'approche \",approche.__name__)\n",
    "    print( \"Pour une grille carrée de taille \", N,\"\\n \\t La moyenne des profondeurs nécessaires est :\", np.mean(grid_results), \"\\n \\t La variance: \",np.var(grid_results)   )\n",
    "    print( \"Pour une grille triangulaire de taille \", N,\"\\n \\t La moyenne des profondeurs nécessaires est :\", np.mean(trigGrid_results),\"\\n \\t La variance: \",np.var(trigGrid_results))\n",
    "    \n",
    "comparer_profondeurs(wilson_algorithm)"
   ]
  },
  {
   "cell_type": "markdown",
   "metadata": {},
   "source": [
    "On observe donc que les performances pour un algorithme donné sont très variables en fonction des grilles données en entrée et ne sont pas simplement liées au nombre de noeuds ou d'arêtes du graphe. "
   ]
  },
  {
   "cell_type": "markdown",
   "metadata": {},
   "source": [
    "## 2.Rapidité des deux approches "
   ]
  },
  {
   "cell_type": "code",
   "execution_count": 11,
   "metadata": {},
   "outputs": [
    {
     "name": "stdout",
     "output_type": "stream",
     "text": [
      "45.4 ms ± 4.73 ms per loop (mean ± std. dev. of 7 runs, 10 loops each)\n",
      "4.36 ms ± 206 µs per loop (mean ± std. dev. of 7 runs, 100 loops each)\n"
     ]
    }
   ],
   "source": [
    "N=20 #taille de la grille carré à générer\n",
    "\n",
    "edges_carre = gen_grid_edges(gen_grid_verts(N))\n",
    "npr.seed(123456)\n",
    "%timeit wilson_algorithm(edges_carre)\n",
    "npr.seed(123456)\n",
    "%timeit wilson_algorithm2(edges_carre)"
   ]
  },
  {
   "cell_type": "code",
   "execution_count": 12,
   "metadata": {},
   "outputs": [
    {
     "name": "stdout",
     "output_type": "stream",
     "text": [
      "5.44 ms ± 262 µs per loop (mean ± std. dev. of 7 runs, 100 loops each)\n"
     ]
    }
   ],
   "source": [
    "N=5 #taille de la grille triangulaire à générer\n",
    "\n",
    "edges_tri = gen_trigrid_edges(gen_trigrid_verts(N))\n",
    "npr.seed(123456)\n",
    "%timeit wilson_algorithm(edges_tri)\n",
    "npr.seed(123456)\n",
    "#%timeit wilson_algorithm2(edges_tri)"
   ]
  },
  {
   "cell_type": "markdown",
   "metadata": {},
   "source": [
    "Les performances des deux algorithmes sont très inégales. Alors que l'algorithme de Wilson semble surpasser la méthode par suppression de cycles dans le cas des grilles carrées, ce n'est pas le cas pour des grilles triangulaires.\n",
    "\n",
    "Pour $N = 5$ par exemple, la première méthode ne finit pas en temps raisonnable alors que la 2e le fait en quelques millisecondes seulement. "
   ]
  }
 ],
 "metadata": {
  "kernelspec": {
   "display_name": "Python 3",
   "language": "python",
   "name": "python3"
  },
  "language_info": {
   "codemirror_mode": {
    "name": "ipython",
    "version": 3
   },
   "file_extension": ".py",
   "mimetype": "text/x-python",
   "name": "python",
   "nbconvert_exporter": "python",
   "pygments_lexer": "ipython3",
   "version": "3.7.6"
  }
 },
 "nbformat": 4,
 "nbformat_minor": 2
}
